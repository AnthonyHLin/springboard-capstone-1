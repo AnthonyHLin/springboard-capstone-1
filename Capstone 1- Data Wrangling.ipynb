{
 "cells": [
  {
   "cell_type": "code",
   "execution_count": 1,
   "metadata": {},
   "outputs": [],
   "source": [
    "# Import packages\n",
    "from glob import glob\n",
    "import pandas as pd\n",
    "import numpy as np\n",
    "import csv\n"
   ]
  },
  {
   "cell_type": "code",
   "execution_count": 2,
   "metadata": {},
   "outputs": [],
   "source": [
    "# Read files into dataframe\n",
    "files = glob('data/LoanStats*.csv')\n",
    "df_list = []\n",
    "\n",
    "for f in files:\n",
    "    df_list.append(pd.read_csv(f, header=1, dtype=object))\n",
    "\n",
    "loan_df = pd.concat(df_list)\n"
   ]
  },
  {
   "cell_type": "code",
   "execution_count": 3,
   "metadata": {},
   "outputs": [],
   "source": [
    "# Keep columns with less than 30% null values\n",
    "keep_cols = []\n",
    "\n",
    "for col in loan_df.columns:\n",
    "    if loan_df[col].isna().sum() < len(loan_df.index) * 0.3:\n",
    "        keep_cols.append(col)     \n",
    "\n",
    "loan_df = loan_df[keep_cols]\n",
    "\n",
    "# Drop rows with no loan amount\n",
    "loan_df = loan_df[loan_df.loan_amnt.notnull()]\n",
    "\n",
    "# Reset dataframe index\n",
    "loan_df = loan_df.reset_index(drop=True)\n"
   ]
  },
  {
   "cell_type": "code",
   "execution_count": 4,
   "metadata": {},
   "outputs": [],
   "source": [
    "# Read column data types legend from CSV file into list\n",
    "with open('data/col_data_types.csv', 'r') as file:\n",
    "    reader = csv.reader(file)\n",
    "    dtypes_list = list(reader)\n",
    "\n",
    "# Create list of columns for each data type\n",
    "floats = []\n",
    "percentages = []\n",
    "strings = []\n",
    "categories = []\n",
    "dates = []\n",
    "\n",
    "for i in range(len(dtypes_list)):\n",
    "    if dtypes_list[i][1] == 'float':\n",
    "        floats.append(dtypes_list[i][0])\n",
    "    elif dtypes_list[i][1] == 'percentage':\n",
    "        percentages.append(dtypes_list[i][0])\n",
    "    elif dtypes_list[i][1] == 'str':\n",
    "        strings.append(dtypes_list[i][0])\n",
    "    elif dtypes_list[i][1] == 'category':\n",
    "        categories.append(dtypes_list[i][0])\n",
    "    elif dtypes_list[i][1] == 'date':\n",
    "        dates.append(dtypes_list[i][0])\n",
    "\n",
    "# Set column data types\n",
    "for col in loan_df.columns:\n",
    "    if col in floats:\n",
    "        loan_df[col] = loan_df[col].astype(float)\n",
    "    elif col in percentages:\n",
    "        loan_df[col] = loan_df[col].astype(str).str.strip('%').astype(float) / 100\n",
    "    elif col in strings:\n",
    "        loan_df[col] = loan_df[col].astype(str)\n",
    "    elif col in categories:\n",
    "        loan_df[col] = loan_df[col].astype('category')\n",
    "    elif col in dates:\n",
    "        loan_df[col] = pd.to_datetime(loan_df[col])\n",
    "               "
   ]
  },
  {
   "cell_type": "code",
   "execution_count": 5,
   "metadata": {},
   "outputs": [],
   "source": [
    "# Define general loan status groups\n",
    "loan_df['status_grp'] = loan_df['loan_status'].map({'Fully Paid':'Good', 'Current':'Good', 'In Grace Period':'Good', \n",
    "                                                    'Does not meet the credit policy. Status:Fully Paid':'Good', \n",
    "                                                    'Charged Off':'Bad', 'Late (16-30 days)':'Bad', \n",
    "                                                    'Late (31-120 days)':'Bad', 'Default':'Bad', \n",
    "                                                    'Does not meet the credit policy. Status:Charged Off':'Bad'})\n",
    "\n",
    "# Define general employment length groups\n",
    "loan_df['emp_length_grp'] = loan_df['emp_length'].map({'< 1 year':'< 5 years', '1 year':'< 5 years', '2 years':'< 5 years',\n",
    "                                                      '3 years':'< 5 years', '4 years':'< 5 years', '5 years':'5-9 years',\n",
    "                                                      '6 years':'5-9 years', '7 years':'5-9 years', '8 years':'5-9 years',\n",
    "                                                      '9 years':'5-9 years', '10+ years':'10+ years'})\n",
    "\n",
    "# Define home ownership groups\n",
    "loan_df['home_ownership_grp'] = loan_df['home_ownership'].map({'MORTGAGE':'MORTGAGE', 'RENT':'RENT', 'OWN':'OWN',\n",
    "                                                              'ANY':'OTHER', 'OTHER':'OTHER', 'NONE':'OTHER'})\n"
   ]
  },
  {
   "cell_type": "code",
   "execution_count": 6,
   "metadata": {},
   "outputs": [],
   "source": [
    "# Read income by zip code data into dataframe\n",
    "census_file = 'data/US_IncomeByZip.xlsx'\n",
    "census_df = pd.read_excel(census_file, dtype=object)\n",
    "\n",
    "# Filter and rename columns in dataframe\n",
    "census_df = census_df[['Zip (ZCTA)', 'Median household income in the past 12 months (in 2017 inflation-adjusted dollars)', \n",
    "                      'Household Income in the past 12 months (in 2017 inflation adjusted dollars)']]\n",
    "census_df.columns = ['zip_code_full', 'median_hh_income', 'households']\n",
    "\n",
    "# Set column data types\n",
    "census_df['zip_code_full'] = census_df['zip_code_full'].astype(str)\n",
    "census_df['median_hh_income'] = pd.to_numeric(census_df['median_hh_income'], errors='coerce')\n",
    "census_df['households'] = pd.to_numeric(census_df['households'], errors='coerce')\n",
    "\n",
    "# Drop rows with null values\n",
    "census_df = census_df[census_df.zip_code_full != 'nan']\n",
    "census_df = census_df[census_df.median_hh_income != -1]\n"
   ]
  },
  {
   "cell_type": "code",
   "execution_count": 11,
   "metadata": {},
   "outputs": [],
   "source": [
    "# Aggregate by first 3 digits of zip code and calculate weighted average\n",
    "census_df['zip_code'] = census_df['zip_code_full'].str[:3] + 'xx'\n",
    "\n",
    "def weighted_average(df, data_col, weight_col, by_col):\n",
    "    df['data_x_weight'] = df[data_col] * df[weight_col]\n",
    "    df['weight_where_notnull'] = df[weight_col] * pd.notnull(df[data_col])\n",
    "    g = df.groupby(by_col)\n",
    "    result = g['data_x_weight'].sum() / g['weight_where_notnull'].sum()\n",
    "    del df['data_x_weight'], df['weight_where_notnull']\n",
    "    return result\n",
    "\n",
    "# Create dataframe of weighted average median income by zip code group\n",
    "zip_code_df = pd.DataFrame(weighted_average(census_df, 'median_hh_income', 'households', 'zip_code'))\n",
    "zip_code_df.columns = ['zip_code_median_income']\n",
    "zip_code_df = zip_code_df.reset_index()\n"
   ]
  },
  {
   "cell_type": "code",
   "execution_count": 12,
   "metadata": {},
   "outputs": [],
   "source": [
    "# Merge loans dataframe with income-by-zip-code dataframe\n",
    "df = pd.merge(loan_df, zip_code_df, how='left')\n",
    "\n",
    "# Calculate ratio of annual income to zip code's median income\n",
    "df['income_vs_peers'] = df['annual_inc'] / df['zip_code_median_income']\n"
   ]
  },
  {
   "cell_type": "code",
   "execution_count": 13,
   "metadata": {},
   "outputs": [],
   "source": [
    "# Export clean dataframe to CSV file\n",
    "df.to_csv('clean_df.csv')\n"
   ]
  }
 ],
 "metadata": {
  "kernelspec": {
   "display_name": "Python 3",
   "language": "python",
   "name": "python3"
  },
  "language_info": {
   "codemirror_mode": {
    "name": "ipython",
    "version": 3
   },
   "file_extension": ".py",
   "mimetype": "text/x-python",
   "name": "python",
   "nbconvert_exporter": "python",
   "pygments_lexer": "ipython3",
   "version": "3.7.3"
  }
 },
 "nbformat": 4,
 "nbformat_minor": 2
}
